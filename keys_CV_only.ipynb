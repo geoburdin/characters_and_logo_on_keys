{
  "nbformat": 4,
  "nbformat_minor": 0,
  "metadata": {
    "colab": {
      "name": "keys_CV_only.ipynb",
      "provenance": [],
      "mount_file_id": "1CaTUJB6d4POfyX1WAgtozcqb-QfPeXeG",
      "authorship_tag": "ABX9TyM3DPho98QLbjrEUiKcMuNJ",
      "include_colab_link": true
    },
    "kernelspec": {
      "name": "python3",
      "display_name": "Python 3"
    },
    "language_info": {
      "name": "python"
    }
  },
  "cells": [
    {
      "cell_type": "markdown",
      "metadata": {
        "id": "view-in-github",
        "colab_type": "text"
      },
      "source": [
        "<a href=\"https://colab.research.google.com/github/geoburdin/characters_and_logo_on_keys/blob/main/keys_CV_only.ipynb\" target=\"_parent\"><img src=\"https://colab.research.google.com/assets/colab-badge.svg\" alt=\"Open In Colab\"/></a>"
      ]
    },
    {
      "cell_type": "code",
      "metadata": {
        "id": "tr2topGB8HDN"
      },
      "source": [
        "import glob\n",
        "\n",
        "source_path = \"/content/drive/MyDrive/keys_templates/\"\n",
        "images_templates = glob.glob(source_path+'*.png')\n",
        "\n",
        "source_path = \"/content/drive/MyDrive/upwork_keys/\"\n",
        "images_keys = glob.glob(source_path+'*.jpg')\n",
        "\n",
        "for filepath in images_templates:\n",
        "    print(filepath)\n",
        "\n",
        "for filepath in images_keys:\n",
        "    print(filepath)"
      ],
      "execution_count": null,
      "outputs": []
    },
    {
      "cell_type": "code",
      "metadata": {
        "id": "OZSxAiYU9VFY"
      },
      "source": [
        "import cv2\n",
        "import numpy as np\n",
        "from google.colab.patches import cv2_imshow\n",
        "\n",
        "\n",
        "for image_key in images_keys:\n",
        "    print(image_key)\n",
        "    img = cv2.imread(image_key,0)\n",
        "    blurred = cv2.GaussianBlur(img, (9,9),0)\n",
        "    canny = cv2.Canny(blurred, 0, 250)\n",
        "    squareKern = cv2.getStructuringElement(cv2.MORPH_RECT, (5, 5))\n",
        "    canny = cv2.morphologyEx(canny, cv2.MORPH_CLOSE, squareKern)\n",
        "    pts = np.argwhere(canny>0)\n",
        "    y1,x1 = pts.min(axis=0)\n",
        "    y2,x2 = pts.max(axis=0)\n",
        "    cropped = img[y1:y2, x1:x2]\n",
        "\n",
        "    for template_path in images_templates:\n",
        "        template = cv2.imread(template_path, 0)\n",
        "        w, h = template.shape\n",
        "\n",
        "        im_bw = cv2.threshold(cropped, 127, 255, cv2.THRESH_BINARY)[1]\n",
        "        template = cv2.threshold(template, 127, 255, cv2.THRESH_BINARY)[1]\n",
        "\n",
        "        im_bw = cv2.GaussianBlur(im_bw, (11,11),0)\n",
        "        template = cv2.GaussianBlur(template, (11,11),0)\n",
        "\n",
        "        res = cv2.matchTemplate(im_bw, template, cv2.TM_CCOEFF_NORMED)\n",
        "        threshold = .7\n",
        "        loc = np.where(res >= threshold)\n",
        "        for pt in zip(*loc[::-1]):  # Switch collumns and rows\n",
        "            #print(template_path)\n",
        "            \n",
        "            cv2.putText(cropped, str(template_path[38:39]), pt, cv2.FONT_HERSHEY_SIMPLEX, 6, 0)\n",
        "    cv2_imshow(cropped)\n"
      ],
      "execution_count": null,
      "outputs": []
    }
  ]
}