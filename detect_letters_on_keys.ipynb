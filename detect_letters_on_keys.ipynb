{
  "nbformat": 4,
  "nbformat_minor": 0,
  "metadata": {
    "colab": {
      "name": "detect letters on keys.ipynb",
      "provenance": [],
      "collapsed_sections": [],
      "include_colab_link": true
    },
    "kernelspec": {
      "name": "python3",
      "display_name": "Python 3"
    },
    "language_info": {
      "name": "python"
    }
  },
  "cells": [
    {
      "cell_type": "markdown",
      "metadata": {
        "id": "view-in-github",
        "colab_type": "text"
      },
      "source": [
        "<a href=\"https://colab.research.google.com/github/geoburdin/characters_and_logo_on_keys/blob/main/detect_letters_on_keys.ipynb\" target=\"_parent\"><img src=\"https://colab.research.google.com/assets/colab-badge.svg\" alt=\"Open In Colab\"/></a>"
      ]
    },
    {
      "cell_type": "code",
      "metadata": {
        "id": "_xD6Da3meZrP"
      },
      "source": [
        "import os\n",
        "import random\n",
        "import cv2\n",
        "from google.colab.patches import cv2_imshow"
      ],
      "execution_count": null,
      "outputs": []
    },
    {
      "cell_type": "code",
      "metadata": {
        "id": "ThF17CdCeUcC"
      },
      "source": [
        "image_path_in_colab='/content/20211001_160516.jpg'\n",
        "img = cv2.imread(image_path_in_colab, 0)\n",
        "cv2_imshow(img)"
      ],
      "execution_count": null,
      "outputs": []
    },
    {
      "cell_type": "code",
      "metadata": {
        "id": "ZRRU8ENTH2ec"
      },
      "source": [
        "img = cv2.imread(image_path_in_colab, 0)\n",
        "blurred = cv2.GaussianBlur(img, (11,11),0)\n",
        "\n",
        "canny = cv2.Canny(blurred, 0, 250)\n",
        "squareKern = cv2.getStructuringElement(cv2.MORPH_RECT, (3, 3))\n",
        "canny = cv2.morphologyEx(canny, cv2.MORPH_CLOSE, squareKern)\n",
        "cv2_imshow(canny)"
      ],
      "execution_count": null,
      "outputs": []
    },
    {
      "cell_type": "code",
      "metadata": {
        "id": "nmB3EtgBx3sJ"
      },
      "source": [
        "pts = np.argwhere(canny>0)\n",
        "y1,x1 = pts.min(axis=0)\n",
        "y2,x2 = pts.max(axis=0)\n",
        "\n",
        "cropped = img[y1:y2, x1:x2]\n",
        "cv2_imshow(cropped)"
      ],
      "execution_count": null,
      "outputs": []
    },
    {
      "cell_type": "code",
      "metadata": {
        "id": "DOOo0JBxyfFk"
      },
      "source": [
        "template = cv2.imread('/content/изображение_2021-10-23_184436.png',0)\n",
        "w, h = template.shape\n",
        "\n",
        "im_bw = cv2.threshold(cropped, 127, 255, cv2.THRESH_BINARY)[1]\n",
        "cv2_imshow(im_bw)\n",
        "template = cv2.threshold(template, 127, 255, cv2.THRESH_BINARY)[1]\n",
        "cv2_imshow(template)\n",
        "\n",
        "im_bw = cv2.GaussianBlur(im_bw, (11,11),0)\n",
        "template = cv2.GaussianBlur(template, (11,11),0)\n",
        "\n",
        "res = cv2.matchTemplate(im_bw, template, cv2.TM_CCOEFF_NORMED)\n",
        "threshold = .5\n",
        "loc = np.where(res >= threshold)\n",
        "for pt in zip(*loc[::-1]):  # Switch collumns and rows\n",
        "    cv2.rectangle(cropped, pt, (pt[0] + w, pt[1] + h), (0, 0, 255), 2)"
      ],
      "execution_count": null,
      "outputs": []
    },
    {
      "cell_type": "code",
      "metadata": {
        "id": "V0wAOublzcc4"
      },
      "source": [
        "cv2_imshow(cropped)"
      ],
      "execution_count": null,
      "outputs": []
    }
  ]
}